{
 "cells": [
  {
   "cell_type": "code",
   "execution_count": 38,
   "id": "375a1e48",
   "metadata": {},
   "outputs": [],
   "source": [
    "def reverse_string(input_string):\n",
    "    reversed_string = \"\"\n",
    "    for i in range(len(input_string)-1,-1,-1):\n",
    "        reversed_string += input_string[i]\n",
    "    return reversed_string"
   ]
  },
  {
   "cell_type": "code",
   "execution_count": 39,
   "id": "93cf48cf",
   "metadata": {},
   "outputs": [
    {
     "name": "stdout",
     "output_type": "stream",
     "text": [
      "dlrow olleh\n"
     ]
    }
   ],
   "source": [
    "string = \"hello world\"\n",
    "reversed_string = reverse_string(string)\n",
    "print(reversed_string)\n"
   ]
  },
  {
   "cell_type": "code",
   "execution_count": 40,
   "id": "f50ec1b0",
   "metadata": {},
   "outputs": [],
   "source": [
    "L = [1,2,3,4]"
   ]
  },
  {
   "cell_type": "code",
   "execution_count": 41,
   "id": "1144957f",
   "metadata": {},
   "outputs": [
    {
     "ename": "AttributeError",
     "evalue": "'list' object has no attribute 'upper'",
     "output_type": "error",
     "traceback": [
      "\u001b[1;31m---------------------------------------------------------------------------\u001b[0m",
      "\u001b[1;31mAttributeError\u001b[0m                            Traceback (most recent call last)",
      "Cell \u001b[1;32mIn[41], line 1\u001b[0m\n\u001b[1;32m----> 1\u001b[0m L\u001b[38;5;241m.\u001b[39mupper()\n",
      "\u001b[1;31mAttributeError\u001b[0m: 'list' object has no attribute 'upper'"
     ]
    }
   ],
   "source": [
    "L.upper()"
   ]
  },
  {
   "cell_type": "code",
   "execution_count": 42,
   "id": "0d92cd3f",
   "metadata": {},
   "outputs": [],
   "source": [
    "x = \"ting\""
   ]
  },
  {
   "cell_type": "code",
   "execution_count": 44,
   "id": "e12e4aa9",
   "metadata": {},
   "outputs": [
    {
     "data": {
      "text/plain": [
       "'TING'"
      ]
     },
     "execution_count": 44,
     "metadata": {},
     "output_type": "execute_result"
    }
   ],
   "source": [
    "x.upper()"
   ]
  },
  {
   "cell_type": "code",
   "execution_count": 45,
   "id": "44539cdd",
   "metadata": {},
   "outputs": [],
   "source": [
    "city = \"kolkata\""
   ]
  },
  {
   "cell_type": "code",
   "execution_count": 46,
   "id": "a4708235",
   "metadata": {},
   "outputs": [
    {
     "ename": "AttributeError",
     "evalue": "'str' object has no attribute 'append'",
     "output_type": "error",
     "traceback": [
      "\u001b[1;31m---------------------------------------------------------------------------\u001b[0m",
      "\u001b[1;31mAttributeError\u001b[0m                            Traceback (most recent call last)",
      "Cell \u001b[1;32mIn[46], line 1\u001b[0m\n\u001b[1;32m----> 1\u001b[0m city\u001b[38;5;241m.\u001b[39mappend(\u001b[38;5;124m'\u001b[39m\u001b[38;5;124mA\u001b[39m\u001b[38;5;124m'\u001b[39m)\n",
      "\u001b[1;31mAttributeError\u001b[0m: 'str' object has no attribute 'append'"
     ]
    }
   ],
   "source": [
    "city.append('A')"
   ]
  },
  {
   "cell_type": "code",
   "execution_count": 47,
   "id": "16bbb58d",
   "metadata": {},
   "outputs": [
    {
     "ename": "AttributeError",
     "evalue": "'int' object has no attribute 'upper'",
     "output_type": "error",
     "traceback": [
      "\u001b[1;31m---------------------------------------------------------------------------\u001b[0m",
      "\u001b[1;31mAttributeError\u001b[0m                            Traceback (most recent call last)",
      "Cell \u001b[1;32mIn[47], line 2\u001b[0m\n\u001b[0;32m      1\u001b[0m a \u001b[38;5;241m=\u001b[39m \u001b[38;5;241m3\u001b[39m\n\u001b[1;32m----> 2\u001b[0m a\u001b[38;5;241m.\u001b[39mupper()\n",
      "\u001b[1;31mAttributeError\u001b[0m: 'int' object has no attribute 'upper'"
     ]
    }
   ],
   "source": [
    "a = 3\n",
    "a.upper()"
   ]
  },
  {
   "cell_type": "code",
   "execution_count": 52,
   "id": "2f193cae",
   "metadata": {},
   "outputs": [],
   "source": [
    "class Atm :\n",
    "    def __init__(self):\n",
    "        print(\"hello\")\n",
    "    def menu(self):\n",
    "        print(\"hello world\")"
   ]
  },
  {
   "cell_type": "code",
   "execution_count": 53,
   "id": "58575f79",
   "metadata": {},
   "outputs": [
    {
     "name": "stdout",
     "output_type": "stream",
     "text": [
      "hello\n"
     ]
    }
   ],
   "source": [
    "sbi=Atm()"
   ]
  },
  {
   "cell_type": "code",
   "execution_count": 51,
   "id": "a8a7e15a",
   "metadata": {},
   "outputs": [
    {
     "name": "stdout",
     "output_type": "stream",
     "text": [
      "hello\n"
     ]
    }
   ],
   "source": [
    "hdfc=Atm()"
   ]
  },
  {
   "cell_type": "code",
   "execution_count": 54,
   "id": "c7a4a087",
   "metadata": {},
   "outputs": [
    {
     "name": "stdout",
     "output_type": "stream",
     "text": [
      "hello world\n"
     ]
    }
   ],
   "source": [
    "sbi.menu()"
   ]
  },
  {
   "cell_type": "code",
   "execution_count": 58,
   "id": "7a95621c",
   "metadata": {},
   "outputs": [],
   "source": [
    "class Atm :\n",
    "    def __init__(self):\n",
    "        \n",
    "        self.pin = ''\n",
    "        self.balance = 0\n",
    "        \n",
    "        self.menu()\n",
    "        \n",
    "    def menu(self):\n",
    "        user_input = input (\"\"\"hello,how would you like to proceed?\n",
    "        1. Enter 1 to create pin\n",
    "        2. Enter 2 to deposit\n",
    "        3. Enter 3 to withdraw\n",
    "        4. Enter 4  to check balance \n",
    "        5. Enter 5 to exit\"\"\")\n",
    "        if user_input == \"1\":\n",
    "            print(\"Create pin \")\n",
    "        elif user_input == \"2\":\n",
    "            print(\"deposit\")\n",
    "        elif user_input == \"3\":\n",
    "            print(\"withdraw\")\n",
    "        elif user_input == \"4\":\n",
    "            print(\"check balance\")\n",
    "        else:\n",
    "            print(\"bye\")"
   ]
  },
  {
   "cell_type": "code",
   "execution_count": 59,
   "id": "a37c274b",
   "metadata": {},
   "outputs": [
    {
     "name": "stdout",
     "output_type": "stream",
     "text": [
      "hello,how would you like to proceed?\n",
      "        1. Enter 1 to create pin\n",
      "        2. Enter 2 to deposit\n",
      "        3. Enter 3 to withdraw\n",
      "        4. Enter 4  to check balance \n",
      "        5. Enter 5 to exit5\n",
      "bye\n"
     ]
    }
   ],
   "source": [
    "sbi = Atm()"
   ]
  },
  {
   "cell_type": "code",
   "execution_count": 57,
   "id": "9cf3a3c7",
   "metadata": {},
   "outputs": [
    {
     "name": "stdout",
     "output_type": "stream",
     "text": [
      "hello,how would you like to proceed?\n",
      "        1.Enter 1 to create pin\n",
      "        2.Enter 2 to deposit\n",
      "        3. Enter 3 to withdraw\n",
      "        4. Enter 4  to check balance \n",
      "        5. Enter 5 to exit4\n",
      "check balance\n"
     ]
    }
   ],
   "source": [
    "HDFC=Atm()"
   ]
  },
  {
   "cell_type": "code",
   "execution_count": 67,
   "id": "c8f9b2c9",
   "metadata": {},
   "outputs": [],
   "source": [
    "# now we add functionality by creating method for each case \n",
    "class Atm :\n",
    "    def __init__(self):\n",
    "        \n",
    "        self.pin = ''\n",
    "        self.balance = 0\n",
    "        \n",
    "        self.menu()\n",
    "        \n",
    "    def menu(self):\n",
    "        user_input = input (\"\"\"hello,how would you like to proceed?\n",
    "        1. Enter 1 to create pin\n",
    "        2. Enter 2 to deposit\n",
    "        3. Enter 3 to withdraw\n",
    "        4. Enter 4  to check balance \n",
    "        5. Enter 5 to exit\"\"\")\n",
    "        if user_input == \"1\":\n",
    "            self.create_pin()\n",
    "        elif user_input == \"2\":\n",
    "            self.deposit()\n",
    "        elif user_input == \"3\":\n",
    "            self.withdraw()\n",
    "        elif user_input == \"4\":\n",
    "            self.check_balance()\n",
    "        else:\n",
    "            print(\"bye\")\n",
    "    def create_pin(self):\n",
    "        self.pin=input(\"Enter your pin\")\n",
    "        print(\"pin set successfully\")\n",
    "        self.menu()\n",
    "    def deposit (self):\n",
    "        temp = input(\"enter your pin\")\n",
    "        if temp == self.pin :\n",
    "            amount = int(input(\"Enter the amount\"))\n",
    "            self.balance = self.balance + amount\n",
    "            print(\"Deposit successful\")\n",
    "        else:\n",
    "            print(\"invalid pin\")\n",
    "        self.menu()\n",
    "    def withdraw(self):\n",
    "        temp = input(\"Enter your pin \")\n",
    "        if temp == self.pin:\n",
    "            amount = int(input(\"Enter the amount\"))\n",
    "            if amount <= self.balance:\n",
    "                self.balance = self.balance - amount\n",
    "                print(\"withdraw successful\")\n",
    "            else:\n",
    "                print(\"insufficiant balance\")\n",
    "        else :\n",
    "            print(\"invalid pin \")\n",
    "        self.menu()\n",
    "    def check_balance(self):\n",
    "        temp = input(\"Enter your pin \")\n",
    "        if temp == self.pin:\n",
    "            print(self.balance)\n",
    "        else:\n",
    "            print(\"invalid pin\")\n",
    "        self.menu()\n",
    "        \n",
    "        "
   ]
  },
  {
   "cell_type": "code",
   "execution_count": 69,
   "id": "3c67ac1e",
   "metadata": {},
   "outputs": [
    {
     "name": "stdout",
     "output_type": "stream",
     "text": [
      "hello,how would you like to proceed?\n",
      "        1. Enter 1 to create pin\n",
      "        2. Enter 2 to deposit\n",
      "        3. Enter 3 to withdraw\n",
      "        4. Enter 4  to check balance \n",
      "        5. Enter 5 to exit1\n",
      "Enter your pin7063\n",
      "pin set successfully\n",
      "hello,how would you like to proceed?\n",
      "        1. Enter 1 to create pin\n",
      "        2. Enter 2 to deposit\n",
      "        3. Enter 3 to withdraw\n",
      "        4. Enter 4  to check balance \n",
      "        5. Enter 5 to exit2\n",
      "enter your pin7063\n",
      "Enter the amount5000\n",
      "Deposit successful\n",
      "hello,how would you like to proceed?\n",
      "        1. Enter 1 to create pin\n",
      "        2. Enter 2 to deposit\n",
      "        3. Enter 3 to withdraw\n",
      "        4. Enter 4  to check balance \n",
      "        5. Enter 5 to exit3\n",
      "Enter your pin 7063\n",
      "Enter the amount6000\n",
      "insufficiant balance\n",
      "hello,how would you like to proceed?\n",
      "        1. Enter 1 to create pin\n",
      "        2. Enter 2 to deposit\n",
      "        3. Enter 3 to withdraw\n",
      "        4. Enter 4  to check balance \n",
      "        5. Enter 5 to exit5\n",
      "bye\n"
     ]
    }
   ],
   "source": [
    "sbi = Atm()"
   ]
  },
  {
   "cell_type": "code",
   "execution_count": 71,
   "id": "f017448e",
   "metadata": {},
   "outputs": [
    {
     "name": "stdout",
     "output_type": "stream",
     "text": [
      "Enter your pin 7063\n",
      "5000\n",
      "hello,how would you like to proceed?\n",
      "        1. Enter 1 to create pin\n",
      "        2. Enter 2 to deposit\n",
      "        3. Enter 3 to withdraw\n",
      "        4. Enter 4  to check balance \n",
      "        5. Enter 5 to exit2\n",
      "enter your pin7063\n",
      "Enter the amount5000\n",
      "Deposit successful\n",
      "hello,how would you like to proceed?\n",
      "        1. Enter 1 to create pin\n",
      "        2. Enter 2 to deposit\n",
      "        3. Enter 3 to withdraw\n",
      "        4. Enter 4  to check balance \n",
      "        5. Enter 5 to exit3\n",
      "Enter your pin 9000\n",
      "invalid pin \n",
      "hello,how would you like to proceed?\n",
      "        1. Enter 1 to create pin\n",
      "        2. Enter 2 to deposit\n",
      "        3. Enter 3 to withdraw\n",
      "        4. Enter 4  to check balance \n",
      "        5. Enter 5 to exit3\n",
      "Enter your pin 7063\n",
      "Enter the amount9000\n",
      "withdraw successful\n",
      "hello,how would you like to proceed?\n",
      "        1. Enter 1 to create pin\n",
      "        2. Enter 2 to deposit\n",
      "        3. Enter 3 to withdraw\n",
      "        4. Enter 4  to check balance \n",
      "        5. Enter 5 to exit5\n",
      "bye\n"
     ]
    }
   ],
   "source": [
    "sbi.check_balance()"
   ]
  },
  {
   "cell_type": "code",
   "execution_count": 72,
   "id": "0c4f8945",
   "metadata": {},
   "outputs": [
    {
     "name": "stdout",
     "output_type": "stream",
     "text": [
      "Enter your pin 7063\n",
      "1000\n",
      "hello,how would you like to proceed?\n",
      "        1. Enter 1 to create pin\n",
      "        2. Enter 2 to deposit\n",
      "        3. Enter 3 to withdraw\n",
      "        4. Enter 4  to check balance \n",
      "        5. Enter 5 to exit5\n",
      "bye\n"
     ]
    }
   ],
   "source": [
    "sbi.check_balance()"
   ]
  },
  {
   "cell_type": "code",
   "execution_count": 73,
   "id": "12502fba",
   "metadata": {},
   "outputs": [
    {
     "name": "stdout",
     "output_type": "stream",
     "text": [
      "hello,how would you like to proceed?\n",
      "        1. Enter 1 to create pin\n",
      "        2. Enter 2 to deposit\n",
      "        3. Enter 3 to withdraw\n",
      "        4. Enter 4  to check balance \n",
      "        5. Enter 5 to exit2\n",
      "enter your pin7063\n",
      "invalid pin\n",
      "hello,how would you like to proceed?\n",
      "        1. Enter 1 to create pin\n",
      "        2. Enter 2 to deposit\n",
      "        3. Enter 3 to withdraw\n",
      "        4. Enter 4  to check balance \n",
      "        5. Enter 5 to exit1\n",
      "Enter your pin0000\n",
      "pin set successfully\n",
      "hello,how would you like to proceed?\n",
      "        1. Enter 1 to create pin\n",
      "        2. Enter 2 to deposit\n",
      "        3. Enter 3 to withdraw\n",
      "        4. Enter 4  to check balance \n",
      "        5. Enter 5 to exit5\n",
      "bye\n"
     ]
    }
   ],
   "source": [
    "hdfc=Atm()"
   ]
  },
  {
   "cell_type": "code",
   "execution_count": 74,
   "id": "90141c6f",
   "metadata": {},
   "outputs": [
    {
     "name": "stdout",
     "output_type": "stream",
     "text": [
      "enter your pin0000\n",
      "Enter the amount8700\n",
      "Deposit successful\n",
      "hello,how would you like to proceed?\n",
      "        1. Enter 1 to create pin\n",
      "        2. Enter 2 to deposit\n",
      "        3. Enter 3 to withdraw\n",
      "        4. Enter 4  to check balance \n",
      "        5. Enter 5 to exit5\n",
      "bye\n"
     ]
    }
   ],
   "source": [
    "hdfc.deposit()"
   ]
  },
  {
   "cell_type": "code",
   "execution_count": 75,
   "id": "bfe241c5",
   "metadata": {},
   "outputs": [
    {
     "name": "stdout",
     "output_type": "stream",
     "text": [
      "Enter your pin 0000\n",
      "8700\n",
      "hello,how would you like to proceed?\n",
      "        1. Enter 1 to create pin\n",
      "        2. Enter 2 to deposit\n",
      "        3. Enter 3 to withdraw\n",
      "        4. Enter 4  to check balance \n",
      "        5. Enter 5 to exit3\n",
      "Enter your pin 0000\n",
      "Enter the amount5000\n",
      "withdraw successful\n",
      "hello,how would you like to proceed?\n",
      "        1. Enter 1 to create pin\n",
      "        2. Enter 2 to deposit\n",
      "        3. Enter 3 to withdraw\n",
      "        4. Enter 4  to check balance \n",
      "        5. Enter 5 to exit5\n",
      "bye\n"
     ]
    }
   ],
   "source": [
    "hdfc.check_balance()"
   ]
  },
  {
   "cell_type": "code",
   "execution_count": 76,
   "id": "11eaff19",
   "metadata": {},
   "outputs": [
    {
     "name": "stdout",
     "output_type": "stream",
     "text": [
      "Enter your pin 0000\n",
      "3700\n",
      "hello,how would you like to proceed?\n",
      "        1. Enter 1 to create pin\n",
      "        2. Enter 2 to deposit\n",
      "        3. Enter 3 to withdraw\n",
      "        4. Enter 4  to check balance \n",
      "        5. Enter 5 to exit5\n",
      "bye\n"
     ]
    }
   ],
   "source": [
    "hdfc.check_balance()"
   ]
  },
  {
   "cell_type": "code",
   "execution_count": 77,
   "id": "2623a575",
   "metadata": {},
   "outputs": [],
   "source": [
    "# topic self \n",
    "class Atm2 :\n",
    "    def __init__(self):\n",
    "        self.pin=\"\"\n",
    "        self.balance = 0\n",
    "        \n",
    "        print(id(self))\n",
    "        \n",
    "        self.menu()\n",
    "    def menu(self):\n",
    "        user_input = input(\"\"\"hello, how would you like to proceed ?\n",
    "        1. Enter 1 to create pin \n",
    "        2. Enter 2 to deposit\n",
    "        3. Enter 3 to withdraw \n",
    "        4. Enter 4 to check balance\n",
    "        5. Enter 5 to exit \"\"\")\n",
    "        "
   ]
  },
  {
   "cell_type": "code",
   "execution_count": 78,
   "id": "163bd0db",
   "metadata": {},
   "outputs": [
    {
     "name": "stdout",
     "output_type": "stream",
     "text": [
      "2303055238928\n",
      "hello, how would you like to proceed ?\n",
      "        1. Enter 1 to create pin \n",
      "        2. Enter 2 to deposit\n",
      "        3. Enter 3 to withdraw \n",
      "        4. Enter 4 to check balance\n",
      "        5. Enter 5 to exit 1\n"
     ]
    }
   ],
   "source": [
    "sbi=Atm2()"
   ]
  },
  {
   "cell_type": "code",
   "execution_count": 79,
   "id": "a47f756a",
   "metadata": {},
   "outputs": [
    {
     "data": {
      "text/plain": [
       "2303055238928"
      ]
     },
     "execution_count": 79,
     "metadata": {},
     "output_type": "execute_result"
    }
   ],
   "source": [
    "id(sbi)"
   ]
  },
  {
   "cell_type": "code",
   "execution_count": 84,
   "id": "3f3e567c",
   "metadata": {},
   "outputs": [
    {
     "name": "stdout",
     "output_type": "stream",
     "text": [
      "2303049827536\n",
      "hello, how would you like to proceed ?\n",
      "        1. Enter 1 to create pin \n",
      "        2. Enter 2 to deposit\n",
      "        3. Enter 3 to withdraw \n",
      "        4. Enter 4 to check balance\n",
      "        5. Enter 5 to exit 1\n"
     ]
    }
   ],
   "source": [
    "hdfc=Atm2()"
   ]
  },
  {
   "cell_type": "code",
   "execution_count": 85,
   "id": "e49ac9fb",
   "metadata": {},
   "outputs": [
    {
     "data": {
      "text/plain": [
       "2303049827536"
      ]
     },
     "execution_count": 85,
     "metadata": {},
     "output_type": "execute_result"
    }
   ],
   "source": [
    "id(hdfc)"
   ]
  },
  {
   "cell_type": "code",
   "execution_count": null,
   "id": "538ddea4",
   "metadata": {},
   "outputs": [],
   "source": []
  }
 ],
 "metadata": {
  "kernelspec": {
   "display_name": "Python 3 (ipykernel)",
   "language": "python",
   "name": "python3"
  },
  "language_info": {
   "codemirror_mode": {
    "name": "ipython",
    "version": 3
   },
   "file_extension": ".py",
   "mimetype": "text/x-python",
   "name": "python",
   "nbconvert_exporter": "python",
   "pygments_lexer": "ipython3",
   "version": "3.11.5"
  }
 },
 "nbformat": 4,
 "nbformat_minor": 5
}
